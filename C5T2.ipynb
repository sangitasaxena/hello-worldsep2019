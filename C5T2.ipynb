{
 "cells": [
  {
   "cell_type": "markdown",
   "metadata": {},
   "source": [
    "Import Libraries"
   ]
  },
  {
   "cell_type": "code",
   "execution_count": 98,
   "metadata": {},
   "outputs": [],
   "source": [
    "import numpy as np\n",
    "import pandas as pd\n",
    "from pandas import Series, DataFrame\n",
    "import matplotlib as mpl\n",
    "import matplotlib.pyplot as plt\n",
    "import seaborn as sns \n",
    "%matplotlib inline"
   ]
  },
  {
   "cell_type": "code",
   "execution_count": 99,
   "metadata": {},
   "outputs": [
    {
     "data": {
      "text/plain": [
       "'C:\\\\Users\\\\SANGITA'"
      ]
     },
     "execution_count": 99,
     "metadata": {},
     "output_type": "execute_result"
    }
   ],
   "source": [
    "pwd"
   ]
  },
  {
   "cell_type": "markdown",
   "metadata": {},
   "source": [
    "Read Data File"
   ]
  },
  {
   "cell_type": "code",
   "execution_count": 100,
   "metadata": {},
   "outputs": [],
   "source": [
    "credit = pd.read_csv(\"D:/UnivofTexas/C5/default_of_credit_card_clients.csv\", header=1)\n",
    "\n"
   ]
  },
  {
   "cell_type": "markdown",
   "metadata": {},
   "source": [
    "Analysis\n"
   ]
  },
  {
   "cell_type": "code",
   "execution_count": 101,
   "metadata": {},
   "outputs": [
    {
     "data": {
      "text/html": [
       "<div>\n",
       "<style scoped>\n",
       "    .dataframe tbody tr th:only-of-type {\n",
       "        vertical-align: middle;\n",
       "    }\n",
       "\n",
       "    .dataframe tbody tr th {\n",
       "        vertical-align: top;\n",
       "    }\n",
       "\n",
       "    .dataframe thead th {\n",
       "        text-align: right;\n",
       "    }\n",
       "</style>\n",
       "<table border=\"1\" class=\"dataframe\">\n",
       "  <thead>\n",
       "    <tr style=\"text-align: right;\">\n",
       "      <th></th>\n",
       "      <th>ID</th>\n",
       "      <th>LIMIT_BAL</th>\n",
       "      <th>SEX</th>\n",
       "      <th>EDUCATION</th>\n",
       "      <th>MARRIAGE</th>\n",
       "      <th>AGE</th>\n",
       "      <th>PAY_0</th>\n",
       "      <th>PAY_2</th>\n",
       "      <th>PAY_3</th>\n",
       "      <th>PAY_4</th>\n",
       "      <th>...</th>\n",
       "      <th>BILL_AMT4</th>\n",
       "      <th>BILL_AMT5</th>\n",
       "      <th>BILL_AMT6</th>\n",
       "      <th>PAY_AMT1</th>\n",
       "      <th>PAY_AMT2</th>\n",
       "      <th>PAY_AMT3</th>\n",
       "      <th>PAY_AMT4</th>\n",
       "      <th>PAY_AMT5</th>\n",
       "      <th>PAY_AMT6</th>\n",
       "      <th>default payment next month</th>\n",
       "    </tr>\n",
       "  </thead>\n",
       "  <tbody>\n",
       "    <tr>\n",
       "      <th>0</th>\n",
       "      <td>1</td>\n",
       "      <td>20000</td>\n",
       "      <td>2</td>\n",
       "      <td>2</td>\n",
       "      <td>1</td>\n",
       "      <td>24</td>\n",
       "      <td>2</td>\n",
       "      <td>2</td>\n",
       "      <td>-1</td>\n",
       "      <td>-1</td>\n",
       "      <td>...</td>\n",
       "      <td>0</td>\n",
       "      <td>0</td>\n",
       "      <td>0</td>\n",
       "      <td>0</td>\n",
       "      <td>689</td>\n",
       "      <td>0</td>\n",
       "      <td>0</td>\n",
       "      <td>0</td>\n",
       "      <td>0</td>\n",
       "      <td>1</td>\n",
       "    </tr>\n",
       "    <tr>\n",
       "      <th>1</th>\n",
       "      <td>2</td>\n",
       "      <td>120000</td>\n",
       "      <td>2</td>\n",
       "      <td>2</td>\n",
       "      <td>2</td>\n",
       "      <td>26</td>\n",
       "      <td>-1</td>\n",
       "      <td>2</td>\n",
       "      <td>0</td>\n",
       "      <td>0</td>\n",
       "      <td>...</td>\n",
       "      <td>3272</td>\n",
       "      <td>3455</td>\n",
       "      <td>3261</td>\n",
       "      <td>0</td>\n",
       "      <td>1000</td>\n",
       "      <td>1000</td>\n",
       "      <td>1000</td>\n",
       "      <td>0</td>\n",
       "      <td>2000</td>\n",
       "      <td>1</td>\n",
       "    </tr>\n",
       "    <tr>\n",
       "      <th>2</th>\n",
       "      <td>3</td>\n",
       "      <td>90000</td>\n",
       "      <td>2</td>\n",
       "      <td>2</td>\n",
       "      <td>2</td>\n",
       "      <td>34</td>\n",
       "      <td>0</td>\n",
       "      <td>0</td>\n",
       "      <td>0</td>\n",
       "      <td>0</td>\n",
       "      <td>...</td>\n",
       "      <td>14331</td>\n",
       "      <td>14948</td>\n",
       "      <td>15549</td>\n",
       "      <td>1518</td>\n",
       "      <td>1500</td>\n",
       "      <td>1000</td>\n",
       "      <td>1000</td>\n",
       "      <td>1000</td>\n",
       "      <td>5000</td>\n",
       "      <td>0</td>\n",
       "    </tr>\n",
       "    <tr>\n",
       "      <th>3</th>\n",
       "      <td>4</td>\n",
       "      <td>50000</td>\n",
       "      <td>2</td>\n",
       "      <td>2</td>\n",
       "      <td>1</td>\n",
       "      <td>37</td>\n",
       "      <td>0</td>\n",
       "      <td>0</td>\n",
       "      <td>0</td>\n",
       "      <td>0</td>\n",
       "      <td>...</td>\n",
       "      <td>28314</td>\n",
       "      <td>28959</td>\n",
       "      <td>29547</td>\n",
       "      <td>2000</td>\n",
       "      <td>2019</td>\n",
       "      <td>1200</td>\n",
       "      <td>1100</td>\n",
       "      <td>1069</td>\n",
       "      <td>1000</td>\n",
       "      <td>0</td>\n",
       "    </tr>\n",
       "    <tr>\n",
       "      <th>4</th>\n",
       "      <td>5</td>\n",
       "      <td>50000</td>\n",
       "      <td>1</td>\n",
       "      <td>2</td>\n",
       "      <td>1</td>\n",
       "      <td>57</td>\n",
       "      <td>-1</td>\n",
       "      <td>0</td>\n",
       "      <td>-1</td>\n",
       "      <td>0</td>\n",
       "      <td>...</td>\n",
       "      <td>20940</td>\n",
       "      <td>19146</td>\n",
       "      <td>19131</td>\n",
       "      <td>2000</td>\n",
       "      <td>36681</td>\n",
       "      <td>10000</td>\n",
       "      <td>9000</td>\n",
       "      <td>689</td>\n",
       "      <td>679</td>\n",
       "      <td>0</td>\n",
       "    </tr>\n",
       "  </tbody>\n",
       "</table>\n",
       "<p>5 rows × 25 columns</p>\n",
       "</div>"
      ],
      "text/plain": [
       "   ID  LIMIT_BAL  SEX  EDUCATION  MARRIAGE  AGE  PAY_0  PAY_2  PAY_3  PAY_4  \\\n",
       "0   1      20000    2          2         1   24      2      2     -1     -1   \n",
       "1   2     120000    2          2         2   26     -1      2      0      0   \n",
       "2   3      90000    2          2         2   34      0      0      0      0   \n",
       "3   4      50000    2          2         1   37      0      0      0      0   \n",
       "4   5      50000    1          2         1   57     -1      0     -1      0   \n",
       "\n",
       "   ...  BILL_AMT4  BILL_AMT5  BILL_AMT6  PAY_AMT1  PAY_AMT2  PAY_AMT3  \\\n",
       "0  ...          0          0          0         0       689         0   \n",
       "1  ...       3272       3455       3261         0      1000      1000   \n",
       "2  ...      14331      14948      15549      1518      1500      1000   \n",
       "3  ...      28314      28959      29547      2000      2019      1200   \n",
       "4  ...      20940      19146      19131      2000     36681     10000   \n",
       "\n",
       "   PAY_AMT4  PAY_AMT5  PAY_AMT6  default payment next month  \n",
       "0         0         0         0                           1  \n",
       "1      1000         0      2000                           1  \n",
       "2      1000      1000      5000                           0  \n",
       "3      1100      1069      1000                           0  \n",
       "4      9000       689       679                           0  \n",
       "\n",
       "[5 rows x 25 columns]"
      ]
     },
     "execution_count": 101,
     "metadata": {},
     "output_type": "execute_result"
    }
   ],
   "source": [
    "# Look at some of the data \n",
    "credit.head()"
   ]
  },
  {
   "cell_type": "code",
   "execution_count": 102,
   "metadata": {},
   "outputs": [
    {
     "data": {
      "text/plain": [
       "Index(['ID', 'LIMIT_BAL', 'SEX', 'EDUCATION', 'MARRIAGE', 'AGE', 'PAY_0',\n",
       "       'PAY_2', 'PAY_3', 'PAY_4', 'PAY_5', 'PAY_6', 'BILL_AMT1', 'BILL_AMT2',\n",
       "       'BILL_AMT3', 'BILL_AMT4', 'BILL_AMT5', 'BILL_AMT6', 'PAY_AMT1',\n",
       "       'PAY_AMT2', 'PAY_AMT3', 'PAY_AMT4', 'PAY_AMT5', 'PAY_AMT6',\n",
       "       'default payment next month'],\n",
       "      dtype='object')"
      ]
     },
     "execution_count": 102,
     "metadata": {},
     "output_type": "execute_result"
    }
   ],
   "source": [
    "# Column names\n",
    "credit.columns"
   ]
  },
  {
   "cell_type": "code",
   "execution_count": 103,
   "metadata": {},
   "outputs": [
    {
     "data": {
      "text/html": [
       "<div>\n",
       "<style scoped>\n",
       "    .dataframe tbody tr th:only-of-type {\n",
       "        vertical-align: middle;\n",
       "    }\n",
       "\n",
       "    .dataframe tbody tr th {\n",
       "        vertical-align: top;\n",
       "    }\n",
       "\n",
       "    .dataframe thead th {\n",
       "        text-align: right;\n",
       "    }\n",
       "</style>\n",
       "<table border=\"1\" class=\"dataframe\">\n",
       "  <thead>\n",
       "    <tr style=\"text-align: right;\">\n",
       "      <th></th>\n",
       "      <th>ID</th>\n",
       "      <th>LIMIT_BAL</th>\n",
       "      <th>SEX</th>\n",
       "      <th>EDUCATION</th>\n",
       "      <th>MARRIAGE</th>\n",
       "      <th>AGE</th>\n",
       "      <th>PAY_0</th>\n",
       "      <th>PAY_2</th>\n",
       "      <th>PAY_3</th>\n",
       "      <th>PAY_4</th>\n",
       "      <th>...</th>\n",
       "      <th>BILL_AMT4</th>\n",
       "      <th>BILL_AMT5</th>\n",
       "      <th>BILL_AMT6</th>\n",
       "      <th>PAY_AMT1</th>\n",
       "      <th>PAY_AMT2</th>\n",
       "      <th>PAY_AMT3</th>\n",
       "      <th>PAY_AMT4</th>\n",
       "      <th>PAY_AMT5</th>\n",
       "      <th>PAY_AMT6</th>\n",
       "      <th>default payment next month</th>\n",
       "    </tr>\n",
       "  </thead>\n",
       "  <tbody>\n",
       "    <tr>\n",
       "      <th>count</th>\n",
       "      <td>30000.000000</td>\n",
       "      <td>30000.000000</td>\n",
       "      <td>30000.000000</td>\n",
       "      <td>30000.000000</td>\n",
       "      <td>30000.000000</td>\n",
       "      <td>30000.000000</td>\n",
       "      <td>30000.000000</td>\n",
       "      <td>30000.000000</td>\n",
       "      <td>30000.000000</td>\n",
       "      <td>30000.000000</td>\n",
       "      <td>...</td>\n",
       "      <td>30000.000000</td>\n",
       "      <td>30000.000000</td>\n",
       "      <td>30000.000000</td>\n",
       "      <td>30000.000000</td>\n",
       "      <td>3.000000e+04</td>\n",
       "      <td>30000.00000</td>\n",
       "      <td>30000.000000</td>\n",
       "      <td>30000.000000</td>\n",
       "      <td>30000.000000</td>\n",
       "      <td>30000.000000</td>\n",
       "    </tr>\n",
       "    <tr>\n",
       "      <th>mean</th>\n",
       "      <td>15000.500000</td>\n",
       "      <td>167484.322667</td>\n",
       "      <td>1.603733</td>\n",
       "      <td>1.853133</td>\n",
       "      <td>1.551867</td>\n",
       "      <td>35.485500</td>\n",
       "      <td>-0.016700</td>\n",
       "      <td>-0.133767</td>\n",
       "      <td>-0.166200</td>\n",
       "      <td>-0.220667</td>\n",
       "      <td>...</td>\n",
       "      <td>43262.948967</td>\n",
       "      <td>40311.400967</td>\n",
       "      <td>38871.760400</td>\n",
       "      <td>5663.580500</td>\n",
       "      <td>5.921163e+03</td>\n",
       "      <td>5225.68150</td>\n",
       "      <td>4826.076867</td>\n",
       "      <td>4799.387633</td>\n",
       "      <td>5215.502567</td>\n",
       "      <td>0.221200</td>\n",
       "    </tr>\n",
       "    <tr>\n",
       "      <th>std</th>\n",
       "      <td>8660.398374</td>\n",
       "      <td>129747.661567</td>\n",
       "      <td>0.489129</td>\n",
       "      <td>0.790349</td>\n",
       "      <td>0.521970</td>\n",
       "      <td>9.217904</td>\n",
       "      <td>1.123802</td>\n",
       "      <td>1.197186</td>\n",
       "      <td>1.196868</td>\n",
       "      <td>1.169139</td>\n",
       "      <td>...</td>\n",
       "      <td>64332.856134</td>\n",
       "      <td>60797.155770</td>\n",
       "      <td>59554.107537</td>\n",
       "      <td>16563.280354</td>\n",
       "      <td>2.304087e+04</td>\n",
       "      <td>17606.96147</td>\n",
       "      <td>15666.159744</td>\n",
       "      <td>15278.305679</td>\n",
       "      <td>17777.465775</td>\n",
       "      <td>0.415062</td>\n",
       "    </tr>\n",
       "    <tr>\n",
       "      <th>min</th>\n",
       "      <td>1.000000</td>\n",
       "      <td>10000.000000</td>\n",
       "      <td>1.000000</td>\n",
       "      <td>0.000000</td>\n",
       "      <td>0.000000</td>\n",
       "      <td>21.000000</td>\n",
       "      <td>-2.000000</td>\n",
       "      <td>-2.000000</td>\n",
       "      <td>-2.000000</td>\n",
       "      <td>-2.000000</td>\n",
       "      <td>...</td>\n",
       "      <td>-170000.000000</td>\n",
       "      <td>-81334.000000</td>\n",
       "      <td>-339603.000000</td>\n",
       "      <td>0.000000</td>\n",
       "      <td>0.000000e+00</td>\n",
       "      <td>0.00000</td>\n",
       "      <td>0.000000</td>\n",
       "      <td>0.000000</td>\n",
       "      <td>0.000000</td>\n",
       "      <td>0.000000</td>\n",
       "    </tr>\n",
       "    <tr>\n",
       "      <th>25%</th>\n",
       "      <td>7500.750000</td>\n",
       "      <td>50000.000000</td>\n",
       "      <td>1.000000</td>\n",
       "      <td>1.000000</td>\n",
       "      <td>1.000000</td>\n",
       "      <td>28.000000</td>\n",
       "      <td>-1.000000</td>\n",
       "      <td>-1.000000</td>\n",
       "      <td>-1.000000</td>\n",
       "      <td>-1.000000</td>\n",
       "      <td>...</td>\n",
       "      <td>2326.750000</td>\n",
       "      <td>1763.000000</td>\n",
       "      <td>1256.000000</td>\n",
       "      <td>1000.000000</td>\n",
       "      <td>8.330000e+02</td>\n",
       "      <td>390.00000</td>\n",
       "      <td>296.000000</td>\n",
       "      <td>252.500000</td>\n",
       "      <td>117.750000</td>\n",
       "      <td>0.000000</td>\n",
       "    </tr>\n",
       "    <tr>\n",
       "      <th>50%</th>\n",
       "      <td>15000.500000</td>\n",
       "      <td>140000.000000</td>\n",
       "      <td>2.000000</td>\n",
       "      <td>2.000000</td>\n",
       "      <td>2.000000</td>\n",
       "      <td>34.000000</td>\n",
       "      <td>0.000000</td>\n",
       "      <td>0.000000</td>\n",
       "      <td>0.000000</td>\n",
       "      <td>0.000000</td>\n",
       "      <td>...</td>\n",
       "      <td>19052.000000</td>\n",
       "      <td>18104.500000</td>\n",
       "      <td>17071.000000</td>\n",
       "      <td>2100.000000</td>\n",
       "      <td>2.009000e+03</td>\n",
       "      <td>1800.00000</td>\n",
       "      <td>1500.000000</td>\n",
       "      <td>1500.000000</td>\n",
       "      <td>1500.000000</td>\n",
       "      <td>0.000000</td>\n",
       "    </tr>\n",
       "    <tr>\n",
       "      <th>75%</th>\n",
       "      <td>22500.250000</td>\n",
       "      <td>240000.000000</td>\n",
       "      <td>2.000000</td>\n",
       "      <td>2.000000</td>\n",
       "      <td>2.000000</td>\n",
       "      <td>41.000000</td>\n",
       "      <td>0.000000</td>\n",
       "      <td>0.000000</td>\n",
       "      <td>0.000000</td>\n",
       "      <td>0.000000</td>\n",
       "      <td>...</td>\n",
       "      <td>54506.000000</td>\n",
       "      <td>50190.500000</td>\n",
       "      <td>49198.250000</td>\n",
       "      <td>5006.000000</td>\n",
       "      <td>5.000000e+03</td>\n",
       "      <td>4505.00000</td>\n",
       "      <td>4013.250000</td>\n",
       "      <td>4031.500000</td>\n",
       "      <td>4000.000000</td>\n",
       "      <td>0.000000</td>\n",
       "    </tr>\n",
       "    <tr>\n",
       "      <th>max</th>\n",
       "      <td>30000.000000</td>\n",
       "      <td>1000000.000000</td>\n",
       "      <td>2.000000</td>\n",
       "      <td>6.000000</td>\n",
       "      <td>3.000000</td>\n",
       "      <td>79.000000</td>\n",
       "      <td>8.000000</td>\n",
       "      <td>8.000000</td>\n",
       "      <td>8.000000</td>\n",
       "      <td>8.000000</td>\n",
       "      <td>...</td>\n",
       "      <td>891586.000000</td>\n",
       "      <td>927171.000000</td>\n",
       "      <td>961664.000000</td>\n",
       "      <td>873552.000000</td>\n",
       "      <td>1.684259e+06</td>\n",
       "      <td>896040.00000</td>\n",
       "      <td>621000.000000</td>\n",
       "      <td>426529.000000</td>\n",
       "      <td>528666.000000</td>\n",
       "      <td>1.000000</td>\n",
       "    </tr>\n",
       "  </tbody>\n",
       "</table>\n",
       "<p>8 rows × 25 columns</p>\n",
       "</div>"
      ],
      "text/plain": [
       "                 ID       LIMIT_BAL           SEX     EDUCATION      MARRIAGE  \\\n",
       "count  30000.000000    30000.000000  30000.000000  30000.000000  30000.000000   \n",
       "mean   15000.500000   167484.322667      1.603733      1.853133      1.551867   \n",
       "std     8660.398374   129747.661567      0.489129      0.790349      0.521970   \n",
       "min        1.000000    10000.000000      1.000000      0.000000      0.000000   \n",
       "25%     7500.750000    50000.000000      1.000000      1.000000      1.000000   \n",
       "50%    15000.500000   140000.000000      2.000000      2.000000      2.000000   \n",
       "75%    22500.250000   240000.000000      2.000000      2.000000      2.000000   \n",
       "max    30000.000000  1000000.000000      2.000000      6.000000      3.000000   \n",
       "\n",
       "                AGE         PAY_0         PAY_2         PAY_3         PAY_4  \\\n",
       "count  30000.000000  30000.000000  30000.000000  30000.000000  30000.000000   \n",
       "mean      35.485500     -0.016700     -0.133767     -0.166200     -0.220667   \n",
       "std        9.217904      1.123802      1.197186      1.196868      1.169139   \n",
       "min       21.000000     -2.000000     -2.000000     -2.000000     -2.000000   \n",
       "25%       28.000000     -1.000000     -1.000000     -1.000000     -1.000000   \n",
       "50%       34.000000      0.000000      0.000000      0.000000      0.000000   \n",
       "75%       41.000000      0.000000      0.000000      0.000000      0.000000   \n",
       "max       79.000000      8.000000      8.000000      8.000000      8.000000   \n",
       "\n",
       "       ...      BILL_AMT4      BILL_AMT5      BILL_AMT6       PAY_AMT1  \\\n",
       "count  ...   30000.000000   30000.000000   30000.000000   30000.000000   \n",
       "mean   ...   43262.948967   40311.400967   38871.760400    5663.580500   \n",
       "std    ...   64332.856134   60797.155770   59554.107537   16563.280354   \n",
       "min    ... -170000.000000  -81334.000000 -339603.000000       0.000000   \n",
       "25%    ...    2326.750000    1763.000000    1256.000000    1000.000000   \n",
       "50%    ...   19052.000000   18104.500000   17071.000000    2100.000000   \n",
       "75%    ...   54506.000000   50190.500000   49198.250000    5006.000000   \n",
       "max    ...  891586.000000  927171.000000  961664.000000  873552.000000   \n",
       "\n",
       "           PAY_AMT2      PAY_AMT3       PAY_AMT4       PAY_AMT5  \\\n",
       "count  3.000000e+04   30000.00000   30000.000000   30000.000000   \n",
       "mean   5.921163e+03    5225.68150    4826.076867    4799.387633   \n",
       "std    2.304087e+04   17606.96147   15666.159744   15278.305679   \n",
       "min    0.000000e+00       0.00000       0.000000       0.000000   \n",
       "25%    8.330000e+02     390.00000     296.000000     252.500000   \n",
       "50%    2.009000e+03    1800.00000    1500.000000    1500.000000   \n",
       "75%    5.000000e+03    4505.00000    4013.250000    4031.500000   \n",
       "max    1.684259e+06  896040.00000  621000.000000  426529.000000   \n",
       "\n",
       "            PAY_AMT6  default payment next month  \n",
       "count   30000.000000                30000.000000  \n",
       "mean     5215.502567                    0.221200  \n",
       "std     17777.465775                    0.415062  \n",
       "min         0.000000                    0.000000  \n",
       "25%       117.750000                    0.000000  \n",
       "50%      1500.000000                    0.000000  \n",
       "75%      4000.000000                    0.000000  \n",
       "max    528666.000000                    1.000000  \n",
       "\n",
       "[8 rows x 25 columns]"
      ]
     },
     "execution_count": 103,
     "metadata": {},
     "output_type": "execute_result"
    }
   ],
   "source": [
    "# Look at the summary of the data\n",
    "credit.describe()"
   ]
  },
  {
   "cell_type": "code",
   "execution_count": 104,
   "metadata": {},
   "outputs": [
    {
     "name": "stdout",
     "output_type": "stream",
     "text": [
      "<class 'pandas.core.frame.DataFrame'>\n",
      "RangeIndex: 30000 entries, 0 to 29999\n",
      "Data columns (total 25 columns):\n",
      "ID                            30000 non-null int64\n",
      "LIMIT_BAL                     30000 non-null int64\n",
      "SEX                           30000 non-null int64\n",
      "EDUCATION                     30000 non-null int64\n",
      "MARRIAGE                      30000 non-null int64\n",
      "AGE                           30000 non-null int64\n",
      "PAY_0                         30000 non-null int64\n",
      "PAY_2                         30000 non-null int64\n",
      "PAY_3                         30000 non-null int64\n",
      "PAY_4                         30000 non-null int64\n",
      "PAY_5                         30000 non-null int64\n",
      "PAY_6                         30000 non-null int64\n",
      "BILL_AMT1                     30000 non-null int64\n",
      "BILL_AMT2                     30000 non-null int64\n",
      "BILL_AMT3                     30000 non-null int64\n",
      "BILL_AMT4                     30000 non-null int64\n",
      "BILL_AMT5                     30000 non-null int64\n",
      "BILL_AMT6                     30000 non-null int64\n",
      "PAY_AMT1                      30000 non-null int64\n",
      "PAY_AMT2                      30000 non-null int64\n",
      "PAY_AMT3                      30000 non-null int64\n",
      "PAY_AMT4                      30000 non-null int64\n",
      "PAY_AMT5                      30000 non-null int64\n",
      "PAY_AMT6                      30000 non-null int64\n",
      "default payment next month    30000 non-null int64\n",
      "dtypes: int64(25)\n",
      "memory usage: 5.7 MB\n"
     ]
    }
   ],
   "source": [
    "# Information about the data set\n",
    "credit.info()"
   ]
  },
  {
   "cell_type": "code",
   "execution_count": 105,
   "metadata": {},
   "outputs": [],
   "source": [
    "# convert some of the int variables to categorical variables\n",
    "credit['SEX'] = credit['SEX'].astype('category')\n",
    "credit['EDUCATION'] = credit['EDUCATION'].astype('category')\n",
    "credit['MARRIAGE'] = credit['MARRIAGE'].astype('category')\n",
    "credit['PAY_0'] = credit['PAY_0'].astype('category')\n",
    "credit['PAY_2'] = credit['PAY_2'].astype('category')\n",
    "credit['PAY_3'] = credit['PAY_3'].astype('category')\n",
    "credit['PAY_4'] = credit['PAY_4'].astype('category')\n",
    "credit['PAY_5'] = credit['PAY_5'].astype('category')\n",
    "credit['PAY_6'] = credit['PAY_6'].astype('category')\n",
    "credit['default payment next month'] = credit['default payment next month'].astype('category')\n",
    "\n",
    "\n"
   ]
  },
  {
   "cell_type": "code",
   "execution_count": 106,
   "metadata": {},
   "outputs": [
    {
     "name": "stdout",
     "output_type": "stream",
     "text": [
      "<class 'pandas.core.frame.DataFrame'>\n",
      "RangeIndex: 30000 entries, 0 to 29999\n",
      "Data columns (total 25 columns):\n",
      "ID                            30000 non-null int64\n",
      "LIMIT_BAL                     30000 non-null int64\n",
      "SEX                           30000 non-null category\n",
      "EDUCATION                     30000 non-null category\n",
      "MARRIAGE                      30000 non-null category\n",
      "AGE                           30000 non-null int64\n",
      "PAY_0                         30000 non-null category\n",
      "PAY_2                         30000 non-null category\n",
      "PAY_3                         30000 non-null category\n",
      "PAY_4                         30000 non-null category\n",
      "PAY_5                         30000 non-null category\n",
      "PAY_6                         30000 non-null category\n",
      "BILL_AMT1                     30000 non-null int64\n",
      "BILL_AMT2                     30000 non-null int64\n",
      "BILL_AMT3                     30000 non-null int64\n",
      "BILL_AMT4                     30000 non-null int64\n",
      "BILL_AMT5                     30000 non-null int64\n",
      "BILL_AMT6                     30000 non-null int64\n",
      "PAY_AMT1                      30000 non-null int64\n",
      "PAY_AMT2                      30000 non-null int64\n",
      "PAY_AMT3                      30000 non-null int64\n",
      "PAY_AMT4                      30000 non-null int64\n",
      "PAY_AMT5                      30000 non-null int64\n",
      "PAY_AMT6                      30000 non-null int64\n",
      "default payment next month    30000 non-null category\n",
      "dtypes: category(10), int64(15)\n",
      "memory usage: 3.7 MB\n"
     ]
    }
   ],
   "source": [
    "# check datatypes after conversion to categorical\n",
    "credit.info()"
   ]
  },
  {
   "cell_type": "code",
   "execution_count": 107,
   "metadata": {},
   "outputs": [
    {
     "data": {
      "text/plain": [
       "SEX\n",
       "1    11888\n",
       "2    18112\n",
       "Name: SEX, dtype: int64"
      ]
     },
     "execution_count": 107,
     "metadata": {},
     "output_type": "execute_result"
    }
   ],
   "source": [
    "# Number of observations by Male (1) and Female (2)\n",
    "credit.groupby('SEX')['SEX'].count()"
   ]
  },
  {
   "cell_type": "raw",
   "metadata": {},
   "source": [
    "The number of females are more than 1.5 times higher than males"
   ]
  },
  {
   "cell_type": "code",
   "execution_count": 108,
   "metadata": {},
   "outputs": [
    {
     "data": {
      "text/plain": [
       "<seaborn.axisgrid.FacetGrid at 0x21065eb9e48>"
      ]
     },
     "execution_count": 108,
     "metadata": {},
     "output_type": "execute_result"
    },
    {
     "data": {
      "image/png": "[encoded data removed]",
      "text/plain": [
       "<Figure size 540x360 with 1 Axes>"
      ]
     },
     "metadata": {
      "needs_background": "light"
     },
     "output_type": "display_data"
    }
   ],
   "source": [
    "# Instead of a group by, use seaborn to plot the count of observations for each sex\n",
    "fg = sns.catplot('SEX', data=credit, kind='count', aspect=1.5)\n",
    "fg.set_xlabels('SEX')"
   ]
  },
  {
   "cell_type": "code",
   "execution_count": 109,
   "metadata": {},
   "outputs": [
    {
     "data": {
      "text/plain": [
       "MARRIAGE\n",
       "0       54\n",
       "1    13659\n",
       "2    15964\n",
       "3      323\n",
       "Name: MARRIAGE, dtype: int64"
      ]
     },
     "execution_count": 109,
     "metadata": {},
     "output_type": "execute_result"
    }
   ],
   "source": [
    "# of observations by martial status  (1 = married; 2 = single; 3 = divorce; 0=others). \n",
    "\n",
    "credit.groupby('MARRIAGE')['MARRIAGE'].count()"
   ]
  },
  {
   "cell_type": "markdown",
   "metadata": {},
   "source": [
    "The number of single people is much higher, followed by married. "
   ]
  },
  {
   "cell_type": "code",
   "execution_count": 110,
   "metadata": {},
   "outputs": [
    {
     "data": {
      "text/plain": [
       "<seaborn.axisgrid.FacetGrid at 0x21065f4f630>"
      ]
     },
     "execution_count": 110,
     "metadata": {},
     "output_type": "execute_result"
    },
    {
     "data": {
      "image/png": "[encoded data removed]",
      "text/plain": [
       "<Figure size 540x360 with 1 Axes>"
      ]
     },
     "metadata": {
      "needs_background": "light"
     },
     "output_type": "display_data"
    }
   ],
   "source": [
    "# Instead of a group by, use seaborn to plot the number of observations by marital status\n",
    "sns.catplot('MARRIAGE', data=credit, kind='count', aspect=1.5)"
   ]
  },
  {
   "cell_type": "code",
   "execution_count": 111,
   "metadata": {},
   "outputs": [
    {
     "data": {
      "text/plain": [
       "EDUCATION\n",
       "0       14\n",
       "1    10585\n",
       "2    14030\n",
       "3     4917\n",
       "4      123\n",
       "5      280\n",
       "6       51\n",
       "Name: EDUCATION, dtype: int64"
      ]
     },
     "execution_count": 111,
     "metadata": {},
     "output_type": "execute_result"
    }
   ],
   "source": [
    "# of observations by Education  (1 = graduate school; 2 = university; 3 = high school; 0, 4, 5, 6 = others). \n",
    "\n",
    "credit.groupby('EDUCATION')['EDUCATION'].count()"
   ]
  },
  {
   "cell_type": "markdown",
   "metadata": {},
   "source": [
    "Close to half the population is at the university level, a third of the population are graduates."
   ]
  },
  {
   "cell_type": "code",
   "execution_count": 112,
   "metadata": {},
   "outputs": [
    {
     "data": {
      "text/plain": [
       "<seaborn.axisgrid.FacetGrid at 0x21065e59978>"
      ]
     },
     "execution_count": 112,
     "metadata": {},
     "output_type": "execute_result"
    },
    {
     "data": {
      "image/png": "[encoded data removed]",
      "text/plain": [
       "<Figure size 540x360 with 1 Axes>"
      ]
     },
     "metadata": {
      "needs_background": "light"
     },
     "output_type": "display_data"
    }
   ],
   "source": [
    "# Instead of a group by, use seaborn to plot the number of observations by education\n",
    "sns.catplot('EDUCATION', data=credit, kind='count', aspect=1.5)"
   ]
  },
  {
   "cell_type": "code",
   "execution_count": 113,
   "metadata": {},
   "outputs": [
    {
     "data": {
      "text/plain": [
       "SEX  EDUCATION\n",
       "1    0               8\n",
       "     1            4354\n",
       "     2            5374\n",
       "     3            1990\n",
       "     4              42\n",
       "     5              95\n",
       "     6              25\n",
       "2    0               6\n",
       "     1            6231\n",
       "     2            8656\n",
       "     3            2927\n",
       "     4              81\n",
       "     5             185\n",
       "     6              26\n",
       "Name: SEX, dtype: int64"
      ]
     },
     "execution_count": 113,
     "metadata": {},
     "output_type": "execute_result"
    }
   ],
   "source": [
    "\n",
    "# Number of men and women in by education level\n",
    "credit.groupby(['SEX', 'EDUCATION'])['SEX'].count()"
   ]
  },
  {
   "cell_type": "code",
   "execution_count": 114,
   "metadata": {},
   "outputs": [
    {
     "data": {
      "text/plain": [
       "<seaborn.axisgrid.FacetGrid at 0x210660a22e8>"
      ]
     },
     "execution_count": 114,
     "metadata": {},
     "output_type": "execute_result"
    },
    {
     "data": {
      "image/png": "[encoded data removed]",
      "text/plain": [
       "<Figure size 672.375x360 with 1 Axes>"
      ]
     },
     "metadata": {
      "needs_background": "light"
     },
     "output_type": "display_data"
    }
   ],
   "source": [
    "\n",
    "# Again use saeborn to group by Sex and class\n",
    "g = sns.catplot('EDUCATION', data=credit, hue='SEX', kind='count', aspect=1.75)\n",
    "g.set_xlabels('Education')"
   ]
  },
  {
   "cell_type": "code",
   "execution_count": 115,
   "metadata": {},
   "outputs": [],
   "source": [
    "# Bin by age\n",
    "credit['AGE_BINS'] = pd.cut(x=credit['AGE'], bins=[20, 29, 39, 49,59,69,79,89])"
   ]
  },
  {
   "cell_type": "code",
   "execution_count": 116,
   "metadata": {},
   "outputs": [
    {
     "data": {
      "text/plain": [
       "<bound method DataFrame.info of           ID  LIMIT_BAL SEX EDUCATION MARRIAGE  AGE PAY_0 PAY_2 PAY_3 PAY_4  \\\n",
       "0          1      20000   2         2        1   24     2     2    -1    -1   \n",
       "1          2     120000   2         2        2   26    -1     2     0     0   \n",
       "2          3      90000   2         2        2   34     0     0     0     0   \n",
       "3          4      50000   2         2        1   37     0     0     0     0   \n",
       "4          5      50000   1         2        1   57    -1     0    -1     0   \n",
       "5          6      50000   1         1        2   37     0     0     0     0   \n",
       "6          7     500000   1         1        2   29     0     0     0     0   \n",
       "7          8     100000   2         2        2   23     0    -1    -1     0   \n",
       "8          9     140000   2         3        1   28     0     0     2     0   \n",
       "9         10      20000   1         3        2   35    -2    -2    -2    -2   \n",
       "10        11     200000   2         3        2   34     0     0     2     0   \n",
       "11        12     260000   2         1        2   51    -1    -1    -1    -1   \n",
       "12        13     630000   2         2        2   41    -1     0    -1    -1   \n",
       "13        14      70000   1         2        2   30     1     2     2     0   \n",
       "14        15     250000   1         1        2   29     0     0     0     0   \n",
       "15        16      50000   2         3        3   23     1     2     0     0   \n",
       "16        17      20000   1         1        2   24     0     0     2     2   \n",
       "17        18     320000   1         1        1   49     0     0     0    -1   \n",
       "18        19     360000   2         1        1   49     1    -2    -2    -2   \n",
       "19        20     180000   2         1        2   29     1    -2    -2    -2   \n",
       "20        21     130000   2         3        2   39     0     0     0     0   \n",
       "21        22     120000   2         2        1   39    -1    -1    -1    -1   \n",
       "22        23      70000   2         2        2   26     2     0     0     2   \n",
       "23        24     450000   2         1        1   40    -2    -2    -2    -2   \n",
       "24        25      90000   1         1        2   23     0     0     0    -1   \n",
       "25        26      50000   1         3        2   23     0     0     0     0   \n",
       "26        27      60000   1         1        2   27     1    -2    -1    -1   \n",
       "27        28      50000   2         3        2   30     0     0     0     0   \n",
       "28        29      50000   2         3        1   47    -1    -1    -1    -1   \n",
       "29        30      50000   1         1        2   26     0     0     0     0   \n",
       "...      ...        ...  ..       ...      ...  ...   ...   ...   ...   ...   \n",
       "29970  29971     360000   1         1        1   34    -1    -1    -1     0   \n",
       "29971  29972      80000   1         3        1   36     0     0     0     0   \n",
       "29972  29973     190000   1         1        1   37     0     0     0     0   \n",
       "29973  29974     230000   1         2        1   35     1    -2    -2    -2   \n",
       "29974  29975      50000   1         2        1   37     1     2     2     2   \n",
       "29975  29976     220000   1         2        1   41     0     0    -1    -1   \n",
       "29976  29977      40000   1         2        2   47     2     2     3     2   \n",
       "29977  29978     420000   1         1        2   34     0     0     0     0   \n",
       "29978  29979     310000   1         2        1   39     0     0     0     0   \n",
       "29979  29980     180000   1         1        1   32    -2    -2    -2    -2   \n",
       "29980  29981      50000   1         3        2   42     0     0     0     0   \n",
       "29981  29982      50000   1         2        1   44     1     2     2     2   \n",
       "29982  29983      90000   1         2        1   36     0     0     0     0   \n",
       "29983  29984      20000   1         2        1   44    -2    -2    -2    -2   \n",
       "29984  29985      30000   1         2        2   38    -1    -1    -2    -1   \n",
       "29985  29986     240000   1         1        2   30    -2    -2    -2    -2   \n",
       "29986  29987     360000   1         1        2   35    -1    -1    -2    -2   \n",
       "29987  29988     130000   1         1        2   34     0     0     0     0   \n",
       "29988  29989     250000   1         1        1   34     0     0     0     0   \n",
       "29989  29990     150000   1         1        2   35    -1    -1    -1    -1   \n",
       "29990  29991     140000   1         2        1   41     0     0     0     0   \n",
       "29991  29992     210000   1         2        1   34     3     2     2     2   \n",
       "29992  29993      10000   1         3        1   43     0     0     0    -2   \n",
       "29993  29994     100000   1         1        2   38     0    -1    -1     0   \n",
       "29994  29995      80000   1         2        2   34     2     2     2     2   \n",
       "29995  29996     220000   1         3        1   39     0     0     0     0   \n",
       "29996  29997     150000   1         3        2   43    -1    -1    -1    -1   \n",
       "29997  29998      30000   1         2        2   37     4     3     2    -1   \n",
       "29998  29999      80000   1         3        1   41     1    -1     0     0   \n",
       "29999  30000      50000   1         2        1   46     0     0     0     0   \n",
       "\n",
       "       ... BILL_AMT5 BILL_AMT6  PAY_AMT1  PAY_AMT2  PAY_AMT3  PAY_AMT4  \\\n",
       "0      ...         0         0         0       689         0         0   \n",
       "1      ...      3455      3261         0      1000      1000      1000   \n",
       "2      ...     14948     15549      1518      1500      1000      1000   \n",
       "3      ...     28959     29547      2000      2019      1200      1100   \n",
       "4      ...     19146     19131      2000     36681     10000      9000   \n",
       "5      ...     19619     20024      2500      1815       657      1000   \n",
       "6      ...    483003    473944     55000     40000     38000     20239   \n",
       "7      ...      -159       567       380       601         0       581   \n",
       "8      ...     11793      3719      3329         0       432      1000   \n",
       "9      ...     13007     13912         0         0         0     13007   \n",
       "10     ...      1828      3731      2306        12        50       300   \n",
       "11     ...     22287     13668     21818      9966      8583     22301   \n",
       "12     ...      6500      2870      1000      6500      6500      6500   \n",
       "13     ...     36137     36894      3200         0      3000      3000   \n",
       "14     ...     56875     55512      3000      3000      3000      3000   \n",
       "15     ...     29531     30211         0      1500      1100      1200   \n",
       "16     ...     17905     19104      3200         0      1500         0   \n",
       "17     ...      5856    195599     10358     10000     75940     20000   \n",
       "18     ...         0         0         0         0         0         0   \n",
       "19     ...         0         0         0         0         0         0   \n",
       "20     ...     11802       930      3000      1537      1000      2000   \n",
       "21     ...       632       316       316       316         0       632   \n",
       "22     ...     46905     46012      2007      3582         0      3601   \n",
       "23     ...         0         0     19428      1473       560         0   \n",
       "24     ...      6360      8292      5757         0      5398      1200   \n",
       "25     ...     29829     30046      1973      1426      1001      1432   \n",
       "26     ...       127      -189         0      1000         0       500   \n",
       "27     ...     18931     19617      1300      1300      1000      1500   \n",
       "28     ...     30430       257      3415      3421      2044     30430   \n",
       "29     ...     18375     11400      1500      1500      1000      1000   \n",
       "...    ...       ...       ...       ...       ...       ...       ...   \n",
       "29970  ...      8676     19487     52951     64535      8907        53   \n",
       "29971  ...     71070     73612      2395      2500      2530      2556   \n",
       "29972  ...     19616    148482      2000      3869     25128     10115   \n",
       "29973  ...         0         0         0         0         0         0   \n",
       "29974  ...      1585      1324         0      3000         0         0   \n",
       "29975  ...      1759      1824      8840      6643      5924      1759   \n",
       "29976  ...     47151     46934      4000         0      2000         0   \n",
       "29977  ...    144839    147954      7000      7000      5500      5500   \n",
       "29978  ...    216540    210675     10029      9218     10029      8049   \n",
       "29979  ...         0         0         0         0         0         0   \n",
       "29980  ...     19971     19694     10000      4000      5000      3000   \n",
       "29981  ...     22676     14647      2300      1700         0       517   \n",
       "29982  ...     12036     14329      1500      1500      1500      1200   \n",
       "29983  ...      9235      1719      2890      2720      2890      9263   \n",
       "29984  ...      1907      3319       923      2977      1999      3057   \n",
       "29985  ...         0         0         0         0         0         0   \n",
       "29986  ...         0         0         0         0         0         0   \n",
       "29987  ...     93708     97353      3000      2000     93000      4000   \n",
       "29988  ...    175005    179687     65000      8800      9011      6000   \n",
       "29989  ...         0         0      9054         0       783         0   \n",
       "29990  ...     49675     46121      6000      7000      4228      1505   \n",
       "29991  ...      2500      2500         0         0         0         0   \n",
       "29992  ...         0         0      2000         0         0         0   \n",
       "29993  ...     69473     55004      2000    111784      4000      3000   \n",
       "29994  ...     82607     81158      7000      3500         0      7000   \n",
       "29995  ...     31237     15980      8500     20000      5003      3047   \n",
       "29996  ...      5190         0      1837      3526      8998       129   \n",
       "29997  ...     20582     19357         0         0     22000      4200   \n",
       "29998  ...     11855     48944     85900      3409      1178      1926   \n",
       "29999  ...     32428     15313      2078      1800      1430      1000   \n",
       "\n",
       "       PAY_AMT5  PAY_AMT6  default payment next month  AGE_BINS  \n",
       "0             0         0                           1  (20, 29]  \n",
       "1             0      2000                           1  (20, 29]  \n",
       "2          1000      5000                           0  (29, 39]  \n",
       "3          1069      1000                           0  (29, 39]  \n",
       "4           689       679                           0  (49, 59]  \n",
       "5          1000       800                           0  (29, 39]  \n",
       "6         13750     13770                           0  (20, 29]  \n",
       "7          1687      1542                           0  (20, 29]  \n",
       "8          1000      1000                           0  (20, 29]  \n",
       "9          1122         0                           0  (29, 39]  \n",
       "10         3738        66                           0  (29, 39]  \n",
       "11            0      3640                           0  (49, 59]  \n",
       "12         2870         0                           0  (39, 49]  \n",
       "13         1500         0                           1  (29, 39]  \n",
       "14         3000      3000                           0  (20, 29]  \n",
       "15         1300      1100                           0  (20, 29]  \n",
       "16         1650         0                           1  (20, 29]  \n",
       "17       195599     50000                           0  (39, 49]  \n",
       "18            0         0                           0  (39, 49]  \n",
       "19            0         0                           0  (20, 29]  \n",
       "20          930     33764                           0  (29, 39]  \n",
       "21          316         0                           1  (29, 39]  \n",
       "22            0      1820                           1  (20, 29]  \n",
       "23            0      1128                           1  (39, 49]  \n",
       "24         2045      2000                           0  (20, 29]  \n",
       "25         1062       997                           0  (20, 29]  \n",
       "26            0      1000                           1  (20, 29]  \n",
       "27         1000      1012                           0  (29, 39]  \n",
       "28          257         0                           0  (39, 49]  \n",
       "29         1600         0                           0  (20, 29]  \n",
       "...         ...       ...                         ...       ...  \n",
       "29970     19584     16080                           0  (29, 39]  \n",
       "29971      3700      3000                           0  (29, 39]  \n",
       "29972    148482      4800                           0  (29, 39]  \n",
       "29973         0         0                           1  (29, 39]  \n",
       "29974      1000      1000                           1  (29, 39]  \n",
       "29975      1824      7022                           0  (39, 49]  \n",
       "29976      3520         0                           1  (39, 49]  \n",
       "29977      5600      5000                           0  (29, 39]  \n",
       "29978      8040     10059                           0  (29, 39]  \n",
       "29979         0         0                           0  (29, 39]  \n",
       "29980      4500      2000                           0  (39, 49]  \n",
       "29981       503       585                           0  (39, 49]  \n",
       "29982      2500         0                           1  (29, 39]  \n",
       "29983      1824      1701                           0  (39, 49]  \n",
       "29984      3319      1000                           0  (29, 39]  \n",
       "29985         0         0                           0  (29, 39]  \n",
       "29986         0         0                           0  (29, 39]  \n",
       "29987      5027      4005                           0  (29, 39]  \n",
       "29988      7000      6009                           0  (29, 39]  \n",
       "29989         0         0                           0  (29, 39]  \n",
       "29990      2000      2000                           0  (39, 49]  \n",
       "29991         0         0                           1  (29, 39]  \n",
       "29992         0         0                           0  (39, 49]  \n",
       "29993      2000      2000                           0  (29, 39]  \n",
       "29994         0      4000                           1  (29, 39]  \n",
       "29995      5000      1000                           0  (29, 39]  \n",
       "29996         0         0                           0  (39, 49]  \n",
       "29997      2000      3100                           1  (29, 39]  \n",
       "29998     52964      1804                           1  (39, 49]  \n",
       "29999      1000      1000                           1  (39, 49]  \n",
       "\n",
       "[30000 rows x 26 columns]>"
      ]
     },
     "execution_count": 116,
     "metadata": {},
     "output_type": "execute_result"
    }
   ],
   "source": [
    "credit.info"
   ]
  },
  {
   "cell_type": "code",
   "execution_count": 117,
   "metadata": {},
   "outputs": [
    {
     "data": {
      "text/plain": [
       "[(20, 29], (29, 39], (49, 59], (39, 49], (59, 69], (69, 79]]\n",
       "Categories (6, interval[int64]): [(20, 29] < (29, 39] < (39, 49] < (49, 59] < (59, 69] < (69, 79]]"
      ]
     },
     "execution_count": 117,
     "metadata": {},
     "output_type": "execute_result"
    }
   ],
   "source": [
    "# check uniqueness of bins\n",
    "credit['AGE_BINS'].unique()"
   ]
  },
  {
   "cell_type": "code",
   "execution_count": 118,
   "metadata": {},
   "outputs": [],
   "source": [
    "credit['AGE_BY_DECADE'] = pd.cut(x=credit['AGE'], bins=[20, 29, 39, 49,59,69,79], labels=['20s', '30s', '40s','50s','60s','70s'])"
   ]
  },
  {
   "cell_type": "code",
   "execution_count": 119,
   "metadata": {},
   "outputs": [
    {
     "data": {
      "text/plain": [
       "<bound method NDFrame.head of           ID  LIMIT_BAL SEX EDUCATION MARRIAGE  AGE PAY_0 PAY_2 PAY_3 PAY_4  \\\n",
       "0          1      20000   2         2        1   24     2     2    -1    -1   \n",
       "1          2     120000   2         2        2   26    -1     2     0     0   \n",
       "2          3      90000   2         2        2   34     0     0     0     0   \n",
       "3          4      50000   2         2        1   37     0     0     0     0   \n",
       "4          5      50000   1         2        1   57    -1     0    -1     0   \n",
       "5          6      50000   1         1        2   37     0     0     0     0   \n",
       "6          7     500000   1         1        2   29     0     0     0     0   \n",
       "7          8     100000   2         2        2   23     0    -1    -1     0   \n",
       "8          9     140000   2         3        1   28     0     0     2     0   \n",
       "9         10      20000   1         3        2   35    -2    -2    -2    -2   \n",
       "10        11     200000   2         3        2   34     0     0     2     0   \n",
       "11        12     260000   2         1        2   51    -1    -1    -1    -1   \n",
       "12        13     630000   2         2        2   41    -1     0    -1    -1   \n",
       "13        14      70000   1         2        2   30     1     2     2     0   \n",
       "14        15     250000   1         1        2   29     0     0     0     0   \n",
       "15        16      50000   2         3        3   23     1     2     0     0   \n",
       "16        17      20000   1         1        2   24     0     0     2     2   \n",
       "17        18     320000   1         1        1   49     0     0     0    -1   \n",
       "18        19     360000   2         1        1   49     1    -2    -2    -2   \n",
       "19        20     180000   2         1        2   29     1    -2    -2    -2   \n",
       "20        21     130000   2         3        2   39     0     0     0     0   \n",
       "21        22     120000   2         2        1   39    -1    -1    -1    -1   \n",
       "22        23      70000   2         2        2   26     2     0     0     2   \n",
       "23        24     450000   2         1        1   40    -2    -2    -2    -2   \n",
       "24        25      90000   1         1        2   23     0     0     0    -1   \n",
       "25        26      50000   1         3        2   23     0     0     0     0   \n",
       "26        27      60000   1         1        2   27     1    -2    -1    -1   \n",
       "27        28      50000   2         3        2   30     0     0     0     0   \n",
       "28        29      50000   2         3        1   47    -1    -1    -1    -1   \n",
       "29        30      50000   1         1        2   26     0     0     0     0   \n",
       "...      ...        ...  ..       ...      ...  ...   ...   ...   ...   ...   \n",
       "29970  29971     360000   1         1        1   34    -1    -1    -1     0   \n",
       "29971  29972      80000   1         3        1   36     0     0     0     0   \n",
       "29972  29973     190000   1         1        1   37     0     0     0     0   \n",
       "29973  29974     230000   1         2        1   35     1    -2    -2    -2   \n",
       "29974  29975      50000   1         2        1   37     1     2     2     2   \n",
       "29975  29976     220000   1         2        1   41     0     0    -1    -1   \n",
       "29976  29977      40000   1         2        2   47     2     2     3     2   \n",
       "29977  29978     420000   1         1        2   34     0     0     0     0   \n",
       "29978  29979     310000   1         2        1   39     0     0     0     0   \n",
       "29979  29980     180000   1         1        1   32    -2    -2    -2    -2   \n",
       "29980  29981      50000   1         3        2   42     0     0     0     0   \n",
       "29981  29982      50000   1         2        1   44     1     2     2     2   \n",
       "29982  29983      90000   1         2        1   36     0     0     0     0   \n",
       "29983  29984      20000   1         2        1   44    -2    -2    -2    -2   \n",
       "29984  29985      30000   1         2        2   38    -1    -1    -2    -1   \n",
       "29985  29986     240000   1         1        2   30    -2    -2    -2    -2   \n",
       "29986  29987     360000   1         1        2   35    -1    -1    -2    -2   \n",
       "29987  29988     130000   1         1        2   34     0     0     0     0   \n",
       "29988  29989     250000   1         1        1   34     0     0     0     0   \n",
       "29989  29990     150000   1         1        2   35    -1    -1    -1    -1   \n",
       "29990  29991     140000   1         2        1   41     0     0     0     0   \n",
       "29991  29992     210000   1         2        1   34     3     2     2     2   \n",
       "29992  29993      10000   1         3        1   43     0     0     0    -2   \n",
       "29993  29994     100000   1         1        2   38     0    -1    -1     0   \n",
       "29994  29995      80000   1         2        2   34     2     2     2     2   \n",
       "29995  29996     220000   1         3        1   39     0     0     0     0   \n",
       "29996  29997     150000   1         3        2   43    -1    -1    -1    -1   \n",
       "29997  29998      30000   1         2        2   37     4     3     2    -1   \n",
       "29998  29999      80000   1         3        1   41     1    -1     0     0   \n",
       "29999  30000      50000   1         2        1   46     0     0     0     0   \n",
       "\n",
       "       ... BILL_AMT6 PAY_AMT1  PAY_AMT2  PAY_AMT3  PAY_AMT4  PAY_AMT5  \\\n",
       "0      ...         0        0       689         0         0         0   \n",
       "1      ...      3261        0      1000      1000      1000         0   \n",
       "2      ...     15549     1518      1500      1000      1000      1000   \n",
       "3      ...     29547     2000      2019      1200      1100      1069   \n",
       "4      ...     19131     2000     36681     10000      9000       689   \n",
       "5      ...     20024     2500      1815       657      1000      1000   \n",
       "6      ...    473944    55000     40000     38000     20239     13750   \n",
       "7      ...       567      380       601         0       581      1687   \n",
       "8      ...      3719     3329         0       432      1000      1000   \n",
       "9      ...     13912        0         0         0     13007      1122   \n",
       "10     ...      3731     2306        12        50       300      3738   \n",
       "11     ...     13668    21818      9966      8583     22301         0   \n",
       "12     ...      2870     1000      6500      6500      6500      2870   \n",
       "13     ...     36894     3200         0      3000      3000      1500   \n",
       "14     ...     55512     3000      3000      3000      3000      3000   \n",
       "15     ...     30211        0      1500      1100      1200      1300   \n",
       "16     ...     19104     3200         0      1500         0      1650   \n",
       "17     ...    195599    10358     10000     75940     20000    195599   \n",
       "18     ...         0        0         0         0         0         0   \n",
       "19     ...         0        0         0         0         0         0   \n",
       "20     ...       930     3000      1537      1000      2000       930   \n",
       "21     ...       316      316       316         0       632       316   \n",
       "22     ...     46012     2007      3582         0      3601         0   \n",
       "23     ...         0    19428      1473       560         0         0   \n",
       "24     ...      8292     5757         0      5398      1200      2045   \n",
       "25     ...     30046     1973      1426      1001      1432      1062   \n",
       "26     ...      -189        0      1000         0       500         0   \n",
       "27     ...     19617     1300      1300      1000      1500      1000   \n",
       "28     ...       257     3415      3421      2044     30430       257   \n",
       "29     ...     11400     1500      1500      1000      1000      1600   \n",
       "...    ...       ...      ...       ...       ...       ...       ...   \n",
       "29970  ...     19487    52951     64535      8907        53     19584   \n",
       "29971  ...     73612     2395      2500      2530      2556      3700   \n",
       "29972  ...    148482     2000      3869     25128     10115    148482   \n",
       "29973  ...         0        0         0         0         0         0   \n",
       "29974  ...      1324        0      3000         0         0      1000   \n",
       "29975  ...      1824     8840      6643      5924      1759      1824   \n",
       "29976  ...     46934     4000         0      2000         0      3520   \n",
       "29977  ...    147954     7000      7000      5500      5500      5600   \n",
       "29978  ...    210675    10029      9218     10029      8049      8040   \n",
       "29979  ...         0        0         0         0         0         0   \n",
       "29980  ...     19694    10000      4000      5000      3000      4500   \n",
       "29981  ...     14647     2300      1700         0       517       503   \n",
       "29982  ...     14329     1500      1500      1500      1200      2500   \n",
       "29983  ...      1719     2890      2720      2890      9263      1824   \n",
       "29984  ...      3319      923      2977      1999      3057      3319   \n",
       "29985  ...         0        0         0         0         0         0   \n",
       "29986  ...         0        0         0         0         0         0   \n",
       "29987  ...     97353     3000      2000     93000      4000      5027   \n",
       "29988  ...    179687    65000      8800      9011      6000      7000   \n",
       "29989  ...         0     9054         0       783         0         0   \n",
       "29990  ...     46121     6000      7000      4228      1505      2000   \n",
       "29991  ...      2500        0         0         0         0         0   \n",
       "29992  ...         0     2000         0         0         0         0   \n",
       "29993  ...     55004     2000    111784      4000      3000      2000   \n",
       "29994  ...     81158     7000      3500         0      7000         0   \n",
       "29995  ...     15980     8500     20000      5003      3047      5000   \n",
       "29996  ...         0     1837      3526      8998       129         0   \n",
       "29997  ...     19357        0         0     22000      4200      2000   \n",
       "29998  ...     48944    85900      3409      1178      1926     52964   \n",
       "29999  ...     15313     2078      1800      1430      1000      1000   \n",
       "\n",
       "       PAY_AMT6  default payment next month  AGE_BINS  AGE_BY_DECADE  \n",
       "0             0                           1  (20, 29]            20s  \n",
       "1          2000                           1  (20, 29]            20s  \n",
       "2          5000                           0  (29, 39]            30s  \n",
       "3          1000                           0  (29, 39]            30s  \n",
       "4           679                           0  (49, 59]            50s  \n",
       "5           800                           0  (29, 39]            30s  \n",
       "6         13770                           0  (20, 29]            20s  \n",
       "7          1542                           0  (20, 29]            20s  \n",
       "8          1000                           0  (20, 29]            20s  \n",
       "9             0                           0  (29, 39]            30s  \n",
       "10           66                           0  (29, 39]            30s  \n",
       "11         3640                           0  (49, 59]            50s  \n",
       "12            0                           0  (39, 49]            40s  \n",
       "13            0                           1  (29, 39]            30s  \n",
       "14         3000                           0  (20, 29]            20s  \n",
       "15         1100                           0  (20, 29]            20s  \n",
       "16            0                           1  (20, 29]            20s  \n",
       "17        50000                           0  (39, 49]            40s  \n",
       "18            0                           0  (39, 49]            40s  \n",
       "19            0                           0  (20, 29]            20s  \n",
       "20        33764                           0  (29, 39]            30s  \n",
       "21            0                           1  (29, 39]            30s  \n",
       "22         1820                           1  (20, 29]            20s  \n",
       "23         1128                           1  (39, 49]            40s  \n",
       "24         2000                           0  (20, 29]            20s  \n",
       "25          997                           0  (20, 29]            20s  \n",
       "26         1000                           1  (20, 29]            20s  \n",
       "27         1012                           0  (29, 39]            30s  \n",
       "28            0                           0  (39, 49]            40s  \n",
       "29            0                           0  (20, 29]            20s  \n",
       "...         ...                         ...       ...            ...  \n",
       "29970     16080                           0  (29, 39]            30s  \n",
       "29971      3000                           0  (29, 39]            30s  \n",
       "29972      4800                           0  (29, 39]            30s  \n",
       "29973         0                           1  (29, 39]            30s  \n",
       "29974      1000                           1  (29, 39]            30s  \n",
       "29975      7022                           0  (39, 49]            40s  \n",
       "29976         0                           1  (39, 49]            40s  \n",
       "29977      5000                           0  (29, 39]            30s  \n",
       "29978     10059                           0  (29, 39]            30s  \n",
       "29979         0                           0  (29, 39]            30s  \n",
       "29980      2000                           0  (39, 49]            40s  \n",
       "29981       585                           0  (39, 49]            40s  \n",
       "29982         0                           1  (29, 39]            30s  \n",
       "29983      1701                           0  (39, 49]            40s  \n",
       "29984      1000                           0  (29, 39]            30s  \n",
       "29985         0                           0  (29, 39]            30s  \n",
       "29986         0                           0  (29, 39]            30s  \n",
       "29987      4005                           0  (29, 39]            30s  \n",
       "29988      6009                           0  (29, 39]            30s  \n",
       "29989         0                           0  (29, 39]            30s  \n",
       "29990      2000                           0  (39, 49]            40s  \n",
       "29991         0                           1  (29, 39]            30s  \n",
       "29992         0                           0  (39, 49]            40s  \n",
       "29993      2000                           0  (29, 39]            30s  \n",
       "29994      4000                           1  (29, 39]            30s  \n",
       "29995      1000                           0  (29, 39]            30s  \n",
       "29996         0                           0  (39, 49]            40s  \n",
       "29997      3100                           1  (29, 39]            30s  \n",
       "29998      1804                           1  (39, 49]            40s  \n",
       "29999      1000                           1  (39, 49]            40s  \n",
       "\n",
       "[30000 rows x 27 columns]>"
      ]
     },
     "execution_count": 119,
     "metadata": {},
     "output_type": "execute_result"
    }
   ],
   "source": [
    "credit.head"
   ]
  },
  {
   "cell_type": "code",
   "execution_count": 120,
   "metadata": {},
   "outputs": [
    {
     "data": {
      "text/plain": [
       "AGE_BY_DECADE\n",
       "20s     9618\n",
       "30s    11238\n",
       "40s     6464\n",
       "50s     2341\n",
       "60s      314\n",
       "70s       25\n",
       "Name: AGE_BY_DECADE, dtype: int64"
      ]
     },
     "execution_count": 120,
     "metadata": {},
     "output_type": "execute_result"
    }
   ],
   "source": [
    "# Number of observations by Age group\n",
    "credit.groupby('AGE_BY_DECADE')['AGE_BY_DECADE'].count()"
   ]
  },
  {
   "cell_type": "markdown",
   "metadata": {},
   "source": [
    "Highest percentage of the population is in the 30s @ 37% , followed by 32% in the 20s"
   ]
  },
  {
   "cell_type": "code",
   "execution_count": 121,
   "metadata": {},
   "outputs": [
    {
     "data": {
      "text/plain": [
       "<seaborn.axisgrid.FacetGrid at 0x210660f9b70>"
      ]
     },
     "execution_count": 121,
     "metadata": {},
     "output_type": "execute_result"
    },
    {
     "data": {
      "image/png": "[encoded data removed]",
      "text/plain": [
       "<Figure size 540x360 with 1 Axes>"
      ]
     },
     "metadata": {
      "needs_background": "light"
     },
     "output_type": "display_data"
    }
   ],
   "source": [
    "# Instead of a group by, use seaborn to plot the count of observations for each age group\n",
    "fg = sns.catplot('AGE_BY_DECADE', data=credit, kind='count', aspect=1.5)\n",
    "fg.set_xlabels('AGE_BY_DECADE')"
   ]
  },
  {
   "cell_type": "code",
   "execution_count": 122,
   "metadata": {},
   "outputs": [
    {
     "data": {
      "text/plain": [
       "<matplotlib.legend.Legend at 0x21065f3fc88>"
      ]
     },
     "execution_count": 122,
     "metadata": {},
     "output_type": "execute_result"
    },
    {
     "data": {
      "image/png": "[encoded data removed]",
      "text/plain": [
       "<Figure size 360x360 with 1 Axes>"
      ]
     },
     "metadata": {
      "needs_background": "light"
     },
     "output_type": "display_data"
    }
   ],
   "source": [
    "# Again use saeborn to group by age group and limit_bal\n",
    "#g = sns.catplot('AGE_BY_DECADE', data=credit, hue='LIMIT_BAL', kind='count', aspect=1.75)\n",
    "#g.set_xlabels('AGE_BY_DECADE')\n",
    "\n",
    "# Use the 'hue' argument to provide a factor variable\n",
    "sns.lmplot( x=\"AGE_BY_DECADE\", y=\"LIMIT_BAL\", data=credit, fit_reg=False, hue='default payment next month', legend=False)\n",
    " \n",
    "# Move the legend to an empty part of the plot\n",
    "plt.legend(loc='lower right')"
   ]
  },
  {
   "cell_type": "code",
   "execution_count": 123,
   "metadata": {},
   "outputs": [
    {
     "data": {
      "image/png": "[encoded data removed]",
      "text/plain": [
       "<Figure size 432x288 with 1 Axes>"
      ]
     },
     "metadata": {
      "needs_background": "light"
     },
     "output_type": "display_data"
    }
   ],
   "source": [
    "plt.hist(credit['LIMIT_BAL'])\n",
    "plt.show()"
   ]
  },
  {
   "cell_type": "code",
   "execution_count": 124,
   "metadata": {},
   "outputs": [
    {
     "data": {
      "image/png": "[encoded data removed]",
      "text/plain": [
       "<Figure size 432x288 with 1 Axes>"
      ]
     },
     "metadata": {
      "needs_background": "light"
     },
     "output_type": "display_data"
    }
   ],
   "source": [
    "plt.hist(credit['LIMIT_BAL'],bins=4)\n",
    "plt.show()"
   ]
  },
  {
   "cell_type": "code",
   "execution_count": 125,
   "metadata": {},
   "outputs": [
    {
     "data": {
      "image/png": "[encoded data removed]",
      "text/plain": [
       "<Figure size 432x288 with 1 Axes>"
      ]
     },
     "metadata": {
      "needs_background": "light"
     },
     "output_type": "display_data"
    }
   ],
   "source": [
    "plt.plot(credit['LIMIT_BAL'])\n",
    "plt.show()"
   ]
  },
  {
   "cell_type": "code",
   "execution_count": 126,
   "metadata": {},
   "outputs": [
    {
     "data": {
      "image/png": "[encoded data removed]",
      "text/plain": [
       "<Figure size 432x288 with 1 Axes>"
      ]
     },
     "metadata": {
      "needs_background": "light"
     },
     "output_type": "display_data"
    }
   ],
   "source": [
    "plt.scatter(credit['PAY_0'],credit['PAY_2'])\n",
    "plt.show()"
   ]
  },
  {
   "cell_type": "code",
   "execution_count": 127,
   "metadata": {},
   "outputs": [
    {
     "data": {
      "image/png": "[encoded data removed]",
      "text/plain": [
       "<Figure size 432x288 with 1 Axes>"
      ]
     },
     "metadata": {
      "needs_background": "light"
     },
     "output_type": "display_data"
    }
   ],
   "source": [
    "plt.scatter(credit['AGE_BY_DECADE'],credit['LIMIT_BAL'])\n",
    "plt.show()"
   ]
  },
  {
   "cell_type": "code",
   "execution_count": 128,
   "metadata": {},
   "outputs": [
    {
     "data": {
      "image/png": "[encoded data removed]",
      "text/plain": [
       "<Figure size 432x288 with 1 Axes>"
      ]
     },
     "metadata": {
      "needs_background": "light"
     },
     "output_type": "display_data"
    }
   ],
   "source": [
    "plt.boxplot(credit['BILL_AMT1'],0,'gD')\n",
    "plt.show()"
   ]
  },
  {
   "cell_type": "code",
   "execution_count": 129,
   "metadata": {},
   "outputs": [
    {
     "name": "stdout",
     "output_type": "stream",
     "text": [
      "Average and median age are 35 and 34 years old, respectively\n"
     ]
    }
   ],
   "source": [
    "# print avg and median age\n",
    "print('Average and median age are %0.f and %0.f years old, respectively'%(credit.AGE.mean(), \n",
    "                                                                          credit.AGE.median()))"
   ]
  },
  {
   "cell_type": "code",
   "execution_count": 130,
   "metadata": {},
   "outputs": [
    {
     "data": {
      "text/plain": [
       "count    30000.000000\n",
       "mean        35.485500\n",
       "std          9.217904\n",
       "min         21.000000\n",
       "25%         28.000000\n",
       "50%         34.000000\n",
       "75%         41.000000\n",
       "max         79.000000\n",
       "Name: AGE, dtype: float64"
      ]
     },
     "execution_count": 130,
     "metadata": {},
     "output_type": "execute_result"
    }
   ],
   "source": [
    "credit.AGE.describe()"
   ]
  },
  {
   "cell_type": "code",
   "execution_count": 131,
   "metadata": {},
   "outputs": [
    {
     "data": {
      "text/plain": [
       "False"
      ]
     },
     "execution_count": 131,
     "metadata": {},
     "output_type": "execute_result"
    }
   ],
   "source": [
    "# check for nulls in data. There are no nulls\n",
    "credit.isnull().values.any()"
   ]
  },
  {
   "cell_type": "markdown",
   "metadata": {},
   "source": [
    "There are no null values in the data set"
   ]
  },
  {
   "cell_type": "code",
   "execution_count": 132,
   "metadata": {},
   "outputs": [
    {
     "data": {
      "text/plain": [
       "ID                            0\n",
       "LIMIT_BAL                     0\n",
       "SEX                           0\n",
       "EDUCATION                     0\n",
       "MARRIAGE                      0\n",
       "AGE                           0\n",
       "PAY_0                         0\n",
       "PAY_2                         0\n",
       "PAY_3                         0\n",
       "PAY_4                         0\n",
       "PAY_5                         0\n",
       "PAY_6                         0\n",
       "BILL_AMT1                     0\n",
       "BILL_AMT2                     0\n",
       "BILL_AMT3                     0\n",
       "BILL_AMT4                     0\n",
       "BILL_AMT5                     0\n",
       "BILL_AMT6                     0\n",
       "PAY_AMT1                      0\n",
       "PAY_AMT2                      0\n",
       "PAY_AMT3                      0\n",
       "PAY_AMT4                      0\n",
       "PAY_AMT5                      0\n",
       "PAY_AMT6                      0\n",
       "default payment next month    0\n",
       "AGE_BINS                      0\n",
       "AGE_BY_DECADE                 0\n",
       "dtype: int64"
      ]
     },
     "execution_count": 132,
     "metadata": {},
     "output_type": "execute_result"
    }
   ],
   "source": [
    "credit.isnull().sum()"
   ]
  },
  {
   "cell_type": "code",
   "execution_count": 133,
   "metadata": {},
   "outputs": [],
   "source": [
    "# Create new dataframe and then drop ID column\n",
    "credit_no_id = credit\n",
    "credit_no_id.info\n",
    "credit_no_id.drop('ID',axis=1,inplace=True)"
   ]
  },
  {
   "cell_type": "code",
   "execution_count": 134,
   "metadata": {},
   "outputs": [
    {
     "name": "stdout",
     "output_type": "stream",
     "text": [
      "           LIMIT_BAL       AGE  BILL_AMT1  BILL_AMT2  BILL_AMT3  BILL_AMT4  \\\n",
      "LIMIT_BAL   1.000000  0.144713   0.285430   0.278314   0.283236   0.293988   \n",
      "AGE         0.144713  1.000000   0.056239   0.054283   0.053710   0.051353   \n",
      "BILL_AMT1   0.285430  0.056239   1.000000   0.951484   0.892279   0.860272   \n",
      "BILL_AMT2   0.278314  0.054283   0.951484   1.000000   0.928326   0.892482   \n",
      "BILL_AMT3   0.283236  0.053710   0.892279   0.928326   1.000000   0.923969   \n",
      "BILL_AMT4   0.293988  0.051353   0.860272   0.892482   0.923969   1.000000   \n",
      "BILL_AMT5   0.295562  0.049345   0.829779   0.859778   0.883910   0.940134   \n",
      "BILL_AMT6   0.290389  0.047613   0.802650   0.831594   0.853320   0.900941   \n",
      "PAY_AMT1    0.195236  0.026147   0.140277   0.280365   0.244335   0.233012   \n",
      "PAY_AMT2    0.178408  0.021785   0.099355   0.100851   0.316936   0.207564   \n",
      "PAY_AMT3    0.210167  0.029247   0.156887   0.150718   0.130011   0.300023   \n",
      "PAY_AMT4    0.203242  0.021379   0.158303   0.147398   0.143405   0.130191   \n",
      "PAY_AMT5    0.217202  0.022850   0.167026   0.157957   0.179712   0.160433   \n",
      "PAY_AMT6    0.219595  0.019478   0.179341   0.174256   0.182326   0.177637   \n",
      "\n",
      "           BILL_AMT5  BILL_AMT6  PAY_AMT1  PAY_AMT2  PAY_AMT3  PAY_AMT4  \\\n",
      "LIMIT_BAL   0.295562   0.290389  0.195236  0.178408  0.210167  0.203242   \n",
      "AGE         0.049345   0.047613  0.026147  0.021785  0.029247  0.021379   \n",
      "BILL_AMT1   0.829779   0.802650  0.140277  0.099355  0.156887  0.158303   \n",
      "BILL_AMT2   0.859778   0.831594  0.280365  0.100851  0.150718  0.147398   \n",
      "BILL_AMT3   0.883910   0.853320  0.244335  0.316936  0.130011  0.143405   \n",
      "BILL_AMT4   0.940134   0.900941  0.233012  0.207564  0.300023  0.130191   \n",
      "BILL_AMT5   1.000000   0.946197  0.217031  0.181246  0.252305  0.293118   \n",
      "BILL_AMT6   0.946197   1.000000  0.199965  0.172663  0.233770  0.250237   \n",
      "PAY_AMT1    0.217031   0.199965  1.000000  0.285576  0.252191  0.199558   \n",
      "PAY_AMT2    0.181246   0.172663  0.285576  1.000000  0.244770  0.180107   \n",
      "PAY_AMT3    0.252305   0.233770  0.252191  0.244770  1.000000  0.216325   \n",
      "PAY_AMT4    0.293118   0.250237  0.199558  0.180107  0.216325  1.000000   \n",
      "PAY_AMT5    0.141574   0.307729  0.148459  0.180908  0.159214  0.151830   \n",
      "PAY_AMT6    0.164184   0.115494  0.185735  0.157634  0.162740  0.157834   \n",
      "\n",
      "           PAY_AMT5  PAY_AMT6  \n",
      "LIMIT_BAL  0.217202  0.219595  \n",
      "AGE        0.022850  0.019478  \n",
      "BILL_AMT1  0.167026  0.179341  \n",
      "BILL_AMT2  0.157957  0.174256  \n",
      "BILL_AMT3  0.179712  0.182326  \n",
      "BILL_AMT4  0.160433  0.177637  \n",
      "BILL_AMT5  0.141574  0.164184  \n",
      "BILL_AMT6  0.307729  0.115494  \n",
      "PAY_AMT1   0.148459  0.185735  \n",
      "PAY_AMT2   0.180908  0.157634  \n",
      "PAY_AMT3   0.159214  0.162740  \n",
      "PAY_AMT4   0.151830  0.157834  \n",
      "PAY_AMT5   1.000000  0.154896  \n",
      "PAY_AMT6   0.154896  1.000000  \n"
     ]
    }
   ],
   "source": [
    "# correlation Matrix\n",
    "corrMat = credit_no_id.corr()\n",
    "print(corrMat)\n",
    "# There is actually no need to do correlation as this is a classification problem and not a regression problem"
   ]
  },
  {
   "cell_type": "code",
   "execution_count": 137,
   "metadata": {},
   "outputs": [],
   "source": [
    "# write the correlation to a file\n",
    "corrMat.to_csv('corrMat.csv',index=False)\n",
    "# Correlation can be ignored as it is a classification problem"
   ]
  },
  {
   "cell_type": "code",
   "execution_count": 138,
   "metadata": {},
   "outputs": [
    {
     "name": "stdout",
     "output_type": "stream",
     "text": [
      "              LIMIT_BAL            AGE     BILL_AMT1     BILL_AMT2  \\\n",
      "LIMIT_BAL  1.683446e+10  173076.722569  2.727020e+09  2.570130e+09   \n",
      "AGE        1.730767e+05      84.969755  3.817293e+04  3.561366e+04   \n",
      "BILL_AMT1  2.727020e+09   38172.933546  5.422240e+09  4.986670e+09   \n",
      "BILL_AMT2  2.570130e+09   35613.657962  4.986670e+09  5.065705e+09   \n",
      "BILL_AMT3  2.548533e+09   34334.251320  4.556511e+09  4.582086e+09   \n",
      "BILL_AMT4  2.453926e+09   30453.108180  4.075286e+09  4.086508e+09   \n",
      "BILL_AMT5  2.331481e+09   27654.067800  3.714795e+09  3.720401e+09   \n",
      "BILL_AMT6  2.243837e+09   26137.648547  3.519876e+09  3.524868e+09   \n",
      "PAY_AMT1   4.195711e+08    3992.041735  1.710894e+08  3.305146e+08   \n",
      "PAY_AMT2   5.333504e+08    4626.861549  1.685692e+08  1.653859e+08   \n",
      "PAY_AMT3   4.801180e+08    4746.824393  2.034048e+08  1.888731e+08   \n",
      "PAY_AMT4   4.131202e+08    3087.324192  1.826164e+08  1.643518e+08   \n",
      "PAY_AMT5   4.305657e+08    3218.052172  1.879091e+08  1.717652e+08   \n",
      "PAY_AMT6   5.065153e+08    3191.903901  2.347681e+08  2.204845e+08   \n",
      "\n",
      "              BILL_AMT3     BILL_AMT4     BILL_AMT5     BILL_AMT6  \\\n",
      "LIMIT_BAL  2.548533e+09  2.453926e+09  2.331481e+09  2.243837e+09   \n",
      "AGE        3.433425e+04  3.045311e+04  2.765407e+04  2.613765e+04   \n",
      "BILL_AMT1  4.556511e+09  4.075286e+09  3.714795e+09  3.519876e+09   \n",
      "BILL_AMT2  4.582086e+09  4.086508e+09  3.720401e+09  3.524868e+09   \n",
      "BILL_AMT3  4.809338e+09  4.122238e+09  3.726780e+09  3.524247e+09   \n",
      "BILL_AMT4  4.122238e+09  4.138716e+09  3.677105e+09  3.451762e+09   \n",
      "BILL_AMT5  3.726780e+09  3.677105e+09  3.696294e+09  3.425914e+09   \n",
      "BILL_AMT6  3.524247e+09  3.451762e+09  3.425914e+09  3.546692e+09   \n",
      "PAY_AMT1   2.806565e+08  2.482888e+08  2.185501e+08  1.972478e+08   \n",
      "PAY_AMT2   5.064226e+08  3.076686e+08  2.538936e+08  2.369244e+08   \n",
      "PAY_AMT3   1.587478e+08  3.398374e+08  2.700805e+08  2.451233e+08   \n",
      "PAY_AMT4   1.558003e+08  1.312133e+08  2.791830e+08  2.334670e+08   \n",
      "PAY_AMT5   1.904126e+08  1.576892e+08  1.315051e+08  2.799982e+08   \n",
      "PAY_AMT6   2.247817e+08  2.031590e+08  1.774537e+08  1.222761e+08   \n",
      "\n",
      "               PAY_AMT1      PAY_AMT2      PAY_AMT3      PAY_AMT4  \\\n",
      "LIMIT_BAL  4.195711e+08  5.333504e+08  4.801180e+08  4.131202e+08   \n",
      "AGE        3.992042e+03  4.626862e+03  4.746824e+03  3.087324e+03   \n",
      "BILL_AMT1  1.710894e+08  1.685692e+08  2.034048e+08  1.826164e+08   \n",
      "BILL_AMT2  3.305146e+08  1.653859e+08  1.888731e+08  1.643518e+08   \n",
      "BILL_AMT3  2.806565e+08  5.064226e+08  1.587478e+08  1.558003e+08   \n",
      "BILL_AMT4  2.482888e+08  3.076686e+08  3.398374e+08  1.312133e+08   \n",
      "BILL_AMT5  2.185501e+08  2.538936e+08  2.700805e+08  2.791830e+08   \n",
      "BILL_AMT6  1.972478e+08  2.369244e+08  2.451233e+08  2.334670e+08   \n",
      "PAY_AMT1   2.743423e+08  1.089849e+08  7.354626e+07  5.178189e+07   \n",
      "PAY_AMT2   1.089849e+08  5.308817e+08  9.929841e+07  6.501168e+07   \n",
      "PAY_AMT3   7.354626e+07  9.929841e+07  3.100051e+08  5.966970e+07   \n",
      "PAY_AMT4   5.178189e+07  6.501168e+07  5.966970e+07  2.454286e+08   \n",
      "PAY_AMT5   3.756893e+07  6.368414e+07  4.282921e+07  3.634098e+07   \n",
      "PAY_AMT6   5.469033e+07  6.456816e+07  5.093879e+07  4.395747e+07   \n",
      "\n",
      "               PAY_AMT5      PAY_AMT6  \n",
      "LIMIT_BAL  4.305657e+08  5.065153e+08  \n",
      "AGE        3.218052e+03  3.191904e+03  \n",
      "BILL_AMT1  1.879091e+08  2.347681e+08  \n",
      "BILL_AMT2  1.717652e+08  2.204845e+08  \n",
      "BILL_AMT3  1.904126e+08  2.247817e+08  \n",
      "BILL_AMT4  1.576892e+08  2.031590e+08  \n",
      "BILL_AMT5  1.315051e+08  1.774537e+08  \n",
      "BILL_AMT6  2.799982e+08  1.222761e+08  \n",
      "PAY_AMT1   3.756893e+07  5.469033e+07  \n",
      "PAY_AMT2   6.368414e+07  6.456816e+07  \n",
      "PAY_AMT3   4.282921e+07  5.093879e+07  \n",
      "PAY_AMT4   3.634098e+07  4.395747e+07  \n",
      "PAY_AMT5   2.334266e+08  4.207110e+07  \n",
      "PAY_AMT6   4.207110e+07  3.160383e+08  \n"
     ]
    }
   ],
   "source": [
    "# Covariance\n",
    "covMat = credit_no_id.cov()\n",
    "print(covMat)\n",
    "# Covariance can be ignored as it is a classification problem"
   ]
  },
  {
   "cell_type": "code",
   "execution_count": 139,
   "metadata": {},
   "outputs": [
    {
     "data": {
      "image/png": "[encoded data removed]",
      "text/plain": [
       "<Figure size 432x288 with 2 Axes>"
      ]
     },
     "metadata": {
      "needs_background": "light"
     },
     "output_type": "display_data"
    }
   ],
   "source": [
    "sns.heatmap(credit_no_id.corr(), annot=True, fmt=\".2f\")\n",
    "plt.show()"
   ]
  },
  {
   "cell_type": "code",
   "execution_count": 140,
   "metadata": {},
   "outputs": [],
   "source": [
    "# write the cleaned up data to a file for modeling\n",
    "credit_no_id.to_csv('credit_no_id.csv',index=False)"
   ]
  }
 ],
 "metadata": {
  "kernelspec": {
   "display_name": "Python 3",
   "language": "python",
   "name": "python3"
  },
  "language_info": {
   "codemirror_mode": {
    "name": "ipython",
    "version": 3
   },
   "file_extension": ".py",
   "mimetype": "text/x-python",
   "name": "python",
   "nbconvert_exporter": "python",
   "pygments_lexer": "ipython3",
   "version": "3.7.3"
  }
 },
 "nbformat": 4,
 "nbformat_minor": 2
}
